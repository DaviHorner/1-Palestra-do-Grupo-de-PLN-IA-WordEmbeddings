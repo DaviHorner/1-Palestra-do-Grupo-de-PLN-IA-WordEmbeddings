{
  "nbformat": 4,
  "nbformat_minor": 0,
  "metadata": {
    "colab": {
      "name": "Tutorial Word Embeddings.ipynb",
      "provenance": [],
      "authorship_tag": "ABX9TyPGeJyU0/pk66DY/UeoaDlI",
      "include_colab_link": true
    },
    "kernelspec": {
      "name": "python3",
      "display_name": "Python 3"
    },
    "language_info": {
      "name": "python"
    }
  },
  "cells": [
    {
      "cell_type": "markdown",
      "metadata": {
        "id": "view-in-github",
        "colab_type": "text"
      },
      "source": [
        "<a href=\"https://colab.research.google.com/github/DaviHorner/1-Palestra-do-Grupo-de-PLN-IA-WordEmbeddings/blob/main/Tutorial_Word_Embeddings.ipynb\" target=\"_parent\"><img src=\"https://colab.research.google.com/assets/colab-badge.svg\" alt=\"Open In Colab\"/></a>"
      ]
    },
    {
      "cell_type": "markdown",
      "metadata": {
        "id": "qk8ZUjceAgco"
      },
      "source": [
        "# Tutorial Word Embeddings\n",
        "\n",
        "### Essa é a primeira palestra do grupo de PLN-IA \n",
        "\n",
        "\n"
      ]
    },
    {
      "cell_type": "code",
      "metadata": {
        "id": "o8Hh6dsXA0TI"
      },
      "source": [
        ""
      ],
      "execution_count": null,
      "outputs": []
    },
    {
      "cell_type": "markdown",
      "metadata": {
        "id": "s7aYYA44Bu7u"
      },
      "source": [
        ""
      ]
    }
  ]
}